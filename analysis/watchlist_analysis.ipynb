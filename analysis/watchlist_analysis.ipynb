{
 "cells": [
  {
   "cell_type": "markdown",
   "metadata": {},
   "source": [
    "# Watchlist Analysis\n",
    "This is a rough analysis of the change in the number of people who are watching the articles that appeared on the Social Media Traffic Report (https://en.wikipedia.org/wiki/User:HostBot/Social_media_traffic_report). Because it is difficult (impossible?) to gather historical data about watchlist counts, so to make a robust analysis, you really need a strong control set of articles to compare against."
   ]
  },
  {
   "cell_type": "code",
   "execution_count": 18,
   "metadata": {},
   "outputs": [],
   "source": [
    "import numpy as np\n",
    "import pandas as pd\n",
    "import requests\n",
    "import time"
   ]
  },
  {
   "cell_type": "markdown",
   "metadata": {},
   "source": [
    "## Load in data\n",
    "TSV file of all of the unique page IDs that have shown up in the social media traffic report and the first date they appeared."
   ]
  },
  {
   "cell_type": "code",
   "execution_count": 7,
   "metadata": {},
   "outputs": [
    {
     "data": {
      "text/html": [
       "<div>\n",
       "<table border=\"1\" class=\"dataframe\">\n",
       "  <thead>\n",
       "    <tr style=\"text-align: right;\">\n",
       "      <th></th>\n",
       "      <th>pageid</th>\n",
       "      <th>date</th>\n",
       "      <th>visitingwatchers</th>\n",
       "      <th>watchers</th>\n",
       "    </tr>\n",
       "  </thead>\n",
       "  <tbody>\n",
       "    <tr>\n",
       "      <th>0</th>\n",
       "      <td>665</td>\n",
       "      <td>2020_04_18</td>\n",
       "      <td>0</td>\n",
       "      <td>180</td>\n",
       "    </tr>\n",
       "    <tr>\n",
       "      <th>1</th>\n",
       "      <td>752</td>\n",
       "      <td>2020_05_05</td>\n",
       "      <td>64</td>\n",
       "      <td>813</td>\n",
       "    </tr>\n",
       "    <tr>\n",
       "      <th>2</th>\n",
       "      <td>848</td>\n",
       "      <td>2020_04_25</td>\n",
       "      <td>0</td>\n",
       "      <td>389</td>\n",
       "    </tr>\n",
       "    <tr>\n",
       "      <th>3</th>\n",
       "      <td>1530</td>\n",
       "      <td>2020_04_21</td>\n",
       "      <td>44</td>\n",
       "      <td>415</td>\n",
       "    </tr>\n",
       "    <tr>\n",
       "      <th>4</th>\n",
       "      <td>1640</td>\n",
       "      <td>2020_04_30</td>\n",
       "      <td>86</td>\n",
       "      <td>470</td>\n",
       "    </tr>\n",
       "  </tbody>\n",
       "</table>\n",
       "</div>"
      ],
      "text/plain": [
       "   pageid        date  visitingwatchers  watchers\n",
       "0     665  2020_04_18                 0       180\n",
       "1     752  2020_05_05                64       813\n",
       "2     848  2020_04_25                 0       389\n",
       "3    1530  2020_04_21                44       415\n",
       "4    1640  2020_04_30                86       470"
      ]
     },
     "execution_count": 7,
     "metadata": {},
     "output_type": "execute_result"
    }
   ],
   "source": [
    "pageids_path = \"../social-media-traffic-reports/data/pageids_watchers_at_post.tsv\"\n",
    "df = pd.read_csv(pageids_path, sep='\\t').rename(columns={\"Unnamed: 0\":'pageid'})\n",
    "df.head()"
   ]
  },
  {
   "cell_type": "code",
   "execution_count": 9,
   "metadata": {},
   "outputs": [],
   "source": [
    "def chunk(pageids, batch_size=50):\n",
    "    \"\"\"Batch pageIDS into sets of 50 for the Mediawiki API.\"\"\"\n",
    "    chunks = []\n",
    "    for i in range(0, len(pageids), batch_size):\n",
    "        chunks.append([str(p) for p in pageids[i:i+batch_size]])\n",
    "    return chunks\n",
    "\n",
    "def get_current_watchers(df, pageid_col='pageid'):\n",
    "    page_ids_sets = chunk(list(set(df[pageid_col])), 50)\n",
    "\n",
    "    base_url = 'https://en.wikipedia.org/w/api.php'\n",
    "    base_params = {\"action\":\"query\",\n",
    "                   \"prop\":\"info\",\n",
    "                   \"format\":\"json\",\n",
    "                   \"formatversion\": 2,\n",
    "                   \"inprop\": 'watchers|visitingwatchers'}\n",
    "\n",
    "    watchers = {}\n",
    "    visitingwatchers = {}\n",
    "    with requests.session() as session:\n",
    "        for pid_set in page_ids_sets:\n",
    "            params = base_params.copy()\n",
    "            params['pageids'] = '|'.join(pid_set)\n",
    "            watchlist_res = session.get(url=base_url, params=params).json()\n",
    "            for result in watchlist_res['query']['pages']:\n",
    "                pid = result['pageid']\n",
    "                watchers[pid] = result.get('watchers', 0)\n",
    "                visitingwatchers[pid] = result.get('visitingwatchers', 0)\n",
    "            time.sleep(1)  # be kind to API\n",
    "    \n",
    "    return watchers, visitingwatchers"
   ]
  },
  {
   "cell_type": "code",
   "execution_count": 12,
   "metadata": {},
   "outputs": [],
   "source": [
    "watchers, visitingwatchers = get_current_watchers(df)"
   ]
  },
  {
   "cell_type": "code",
   "execution_count": 14,
   "metadata": {},
   "outputs": [
    {
     "data": {
      "text/html": [
       "<div>\n",
       "<table border=\"1\" class=\"dataframe\">\n",
       "  <thead>\n",
       "    <tr style=\"text-align: right;\">\n",
       "      <th></th>\n",
       "      <th>pageid</th>\n",
       "      <th>date</th>\n",
       "      <th>visitingwatchers</th>\n",
       "      <th>watchers</th>\n",
       "      <th>current_watchers</th>\n",
       "      <th>current_visitingwatchers</th>\n",
       "    </tr>\n",
       "  </thead>\n",
       "  <tbody>\n",
       "    <tr>\n",
       "      <th>0</th>\n",
       "      <td>665</td>\n",
       "      <td>2020_04_18</td>\n",
       "      <td>0</td>\n",
       "      <td>180</td>\n",
       "      <td>181</td>\n",
       "      <td>0</td>\n",
       "    </tr>\n",
       "    <tr>\n",
       "      <th>1</th>\n",
       "      <td>752</td>\n",
       "      <td>2020_05_05</td>\n",
       "      <td>64</td>\n",
       "      <td>813</td>\n",
       "      <td>815</td>\n",
       "      <td>63</td>\n",
       "    </tr>\n",
       "    <tr>\n",
       "      <th>2</th>\n",
       "      <td>848</td>\n",
       "      <td>2020_04_25</td>\n",
       "      <td>0</td>\n",
       "      <td>389</td>\n",
       "      <td>389</td>\n",
       "      <td>0</td>\n",
       "    </tr>\n",
       "    <tr>\n",
       "      <th>3</th>\n",
       "      <td>1530</td>\n",
       "      <td>2020_04_21</td>\n",
       "      <td>44</td>\n",
       "      <td>415</td>\n",
       "      <td>422</td>\n",
       "      <td>52</td>\n",
       "    </tr>\n",
       "    <tr>\n",
       "      <th>4</th>\n",
       "      <td>1640</td>\n",
       "      <td>2020_04_30</td>\n",
       "      <td>86</td>\n",
       "      <td>470</td>\n",
       "      <td>477</td>\n",
       "      <td>90</td>\n",
       "    </tr>\n",
       "  </tbody>\n",
       "</table>\n",
       "</div>"
      ],
      "text/plain": [
       "   pageid        date  visitingwatchers  watchers  current_watchers  \\\n",
       "0     665  2020_04_18                 0       180               181   \n",
       "1     752  2020_05_05                64       813               815   \n",
       "2     848  2020_04_25                 0       389               389   \n",
       "3    1530  2020_04_21                44       415               422   \n",
       "4    1640  2020_04_30                86       470               477   \n",
       "\n",
       "   current_visitingwatchers  \n",
       "0                         0  \n",
       "1                        63  \n",
       "2                         0  \n",
       "3                        52  \n",
       "4                        90  "
      ]
     },
     "execution_count": 14,
     "metadata": {},
     "output_type": "execute_result"
    }
   ],
   "source": [
    "df['current_watchers'] = df['pageid'].apply(lambda x: watchers[x])\n",
    "df['current_visitingwatchers'] = df['pageid'].apply(lambda x: visitingwatchers[x])\n",
    "df.head()"
   ]
  },
  {
   "cell_type": "code",
   "execution_count": 17,
   "metadata": {},
   "outputs": [],
   "source": [
    "def ci_interval(col, alpha=0.01, num_iter=1000):\n",
    "    true_avg = np.mean(col)\n",
    "    ci = []\n",
    "    for i in range(num_iter):\n",
    "        iter_dat = col.sample(len(col), replace=True)\n",
    "        iter_avg = np.mean(iter_dat)\n",
    "        ci.append(iter_avg)\n",
    "    ci = sorted(ci)\n",
    "    return '{0:.3f} [{1:.3f}-{2:.3f}]'.format(true_avg,\n",
    "                                              ci[int(num_iter * (alpha / 2))],\n",
    "                                              ci[int(num_iter * (1 - (alpha / 2)))])"
   ]
  },
  {
   "cell_type": "code",
   "execution_count": 20,
   "metadata": {},
   "outputs": [
    {
     "name": "stdout",
     "output_type": "stream",
     "text": [
      "Change in # of watchers after post: 3.346 [2.689-4.090]\n"
     ]
    }
   ],
   "source": [
    "print(\"Change in # of watchers after post: {0}\".format(ci_interval(df['current_watchers'] - df['watchers'])))"
   ]
  },
  {
   "cell_type": "code",
   "execution_count": 22,
   "metadata": {},
   "outputs": [
    {
     "name": "stdout",
     "output_type": "stream",
     "text": [
      "Change in # of visiting watchers after post: 1.950 [0.566-2.947]\n"
     ]
    }
   ],
   "source": [
    "print(\"Change in # of visiting watchers after post: {0}\".format(ci_interval(df['current_visitingwatchers'] - df['visitingwatchers'])))"
   ]
  }
 ],
 "metadata": {
  "kernelspec": {
   "display_name": "Python 3",
   "language": "python",
   "name": "python3"
  },
  "language_info": {
   "codemirror_mode": {
    "name": "ipython",
    "version": 3
   },
   "file_extension": ".py",
   "mimetype": "text/x-python",
   "name": "python",
   "nbconvert_exporter": "python",
   "pygments_lexer": "ipython3",
   "version": "3.5.3"
  }
 },
 "nbformat": 4,
 "nbformat_minor": 4
}
